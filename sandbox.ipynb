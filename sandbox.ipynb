{
 "cells": [
  {
   "cell_type": "code",
   "execution_count": 1,
   "metadata": {},
   "outputs": [],
   "source": [
    "from PIL import Image\n",
    "from inference.util import draw_bb_on_img\n",
    "from inference.constants import MODEL_PATH\n",
    "from face_recognition import preprocessing\n",
    "from inference.classifier import recognise_faces\n",
    "import joblib"
   ]
  },
  {
   "cell_type": "code",
   "execution_count": 2,
   "metadata": {},
   "outputs": [],
   "source": [
    "def unlock(img_path):\n",
    "    preprocess = preprocessing.ExifOrientationNormalize()\n",
    "    img = Image.open(img_path)\n",
    "    filename = img.filename\n",
    "    img = preprocess(img)\n",
    "    img = img.convert('RGB')\n",
    "\n",
    "    faces = joblib.load('/media/jeason/Data/git/face-recognition/model/face_recogniser.pkl')(img)\n",
    "\n",
    "    print(faces[0][0][0])\n",
    "    if faces[0][0][0] == 'Person Not Recognized':\n",
    "        print(f'Cannot unlock the door. You are not a recognized person. Please leave!')\n",
    "    else:\n",
    "        print(f'Welocme Home: {faces[0][0][0]}')\n",
    "\n",
    "\n"
   ]
  },
  {
   "cell_type": "code",
   "execution_count": 3,
   "metadata": {},
   "outputs": [
    {
     "name": "stdout",
     "output_type": "stream",
     "text": [
      "{0: 'biden', 1: 'elon', 2: 'jr', 3: 'mj', 4: 'obama', 5: 'sr', 6: 'trump', 7: 'zuk'}\n",
      "[0.02949578 0.15501384 0.35461832 0.03906132 0.05734389 0.31830264\n",
      " 0.01834574 0.02781847]\n",
      "2\n",
      "Person Not Recognized\n",
      "Cannot unlock the door. You are not a recognized person. Please leave!\n"
     ]
    }
   ],
   "source": [
    "unlock('/media/jeason/Data/git/face-recognition/test_images/rudd.png')"
   ]
  },
  {
   "cell_type": "code",
   "execution_count": 4,
   "metadata": {},
   "outputs": [
    {
     "name": "stdout",
     "output_type": "stream",
     "text": [
      "{0: 'biden', 1: 'elon', 2: 'jr', 3: 'mj', 4: 'obama', 5: 'sr', 6: 'trump', 7: 'zuk'}\n",
      "[0.1610081  0.15955244 0.06878085 0.01879491 0.3531092  0.03663402\n",
      " 0.08802818 0.1140923 ]\n",
      "4\n",
      "Person Not Recognized\n",
      "Cannot unlock the door. You are not a recognized person. Please leave!\n"
     ]
    }
   ],
   "source": [
    "unlock('/media/jeason/Data/git/face-recognition/test_images/obama.png')"
   ]
  }
 ],
 "metadata": {
  "kernelspec": {
   "display_name": "Python 3.7.13 ('face-recognition')",
   "language": "python",
   "name": "python3"
  },
  "language_info": {
   "codemirror_mode": {
    "name": "ipython",
    "version": 3
   },
   "file_extension": ".py",
   "mimetype": "text/x-python",
   "name": "python",
   "nbconvert_exporter": "python",
   "pygments_lexer": "ipython3",
   "version": "3.7.13"
  },
  "orig_nbformat": 4,
  "vscode": {
   "interpreter": {
    "hash": "3dd8adc51f5bbb08fd63a54e3e986e9628ae289a03b120bdbc2a0925fe59724a"
   }
  }
 },
 "nbformat": 4,
 "nbformat_minor": 2
}
